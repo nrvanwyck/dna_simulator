{
 "cells": [
  {
   "cell_type": "code",
   "execution_count": null,
   "metadata": {},
   "outputs": [],
   "source": [
    "with open('dna_results.txt', 'r') as file:\n",
    "    dna_results = file.read()\n",
    "dna_results_rows = [line.split('\\t') for line in \n",
    "                    dna_results.split('\\n')[19:-1]]\n",
    "dna_results_data = {row[0]: {'chromosome': row[1],\n",
    "                             'position': row[2],\n",
    "                             'allele1': row[3],\n",
    "                             'allele2': row[4]} for row in dna_results_rows}\n",
    "dna_results"
   ]
  }
 ],
 "metadata": {
  "kernelspec": {
   "display_name": "Python 3",
   "language": "python",
   "name": "python3"
  },
  "language_info": {
   "codemirror_mode": {
    "name": "ipython",
    "version": 3
   },
   "file_extension": ".py",
   "mimetype": "text/x-python",
   "name": "python",
   "nbconvert_exporter": "python",
   "pygments_lexer": "ipython3",
   "version": "3.7.4"
  }
 },
 "nbformat": 4,
 "nbformat_minor": 2
}
