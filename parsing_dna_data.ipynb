{
 "cells": [
  {
   "cell_type": "code",
   "execution_count": null,
   "metadata": {},
   "outputs": [],
   "source": [
    "with open('dna_results.txt', 'r') as file:\n",
    "    dna_results = file.read()\n",
    "    \n",
    "columns = dna_results.split('\\n')[18].split('\\t')\n",
    "rows = [line.split('\\t') for line in dna_results.split('\\n')[19:-1]]\n",
    "\n",
    "df = pd.DataFrame(rows, columns=columns)\n",
    "df['chromosome'] = df['chromosome'].astype(int)\n",
    "df['position'] = df['position'].astype(int)\n",
    "\n",
    "condition_1 = df['allele1'].isin(['A', 'C', 'G', 'T'])\n",
    "condition_2 = df['allele2'].isin(['A', 'C', 'G', 'T'])\n",
    "condition_3 = df['chromosome'].isin(range(23))\n",
    "new_columns = ['chromosome', 'position', 'allele1', 'allele2']\n",
    "\n",
    "df = df[condition_1 & condition_2 & condition_3][\n",
    "    new_columns].drop_duplicates().reset_index(drop=True)\n",
    "df['test'] = 'test_name'\n",
    "\n",
    "df"
   ]
  }
 ],
 "metadata": {
  "kernelspec": {
   "display_name": "Python 3",
   "language": "python",
   "name": "python3"
  },
  "language_info": {
   "codemirror_mode": {
    "name": "ipython",
    "version": 3
   },
   "file_extension": ".py",
   "mimetype": "text/x-python",
   "name": "python",
   "nbconvert_exporter": "python",
   "pygments_lexer": "ipython3",
   "version": "3.7.4"
  }
 },
 "nbformat": 4,
 "nbformat_minor": 2
}
